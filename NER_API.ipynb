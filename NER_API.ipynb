{
  "cells": [
    {
      "cell_type": "code",
      "execution_count": null,
      "id": "7e2f5f67",
      "metadata": {
        "id": "7e2f5f67"
      },
      "outputs": [],
      "source": [
        "# import libraries\n",
        "\n",
        "!pip install camel-tools\n",
        "!pip install flask\n",
        "\n",
        "import os\n",
        "from camel_tools.ner import NERecognizer\n",
        "from camel_tools.tokenizers.word import simple_word_tokenize\n",
        "from flask import Flask, request, jsonify"
      ]
    },
    {
      "cell_type": "code",
      "execution_count": null,
      "id": "f8861633",
      "metadata": {
        "id": "f8861633"
      },
      "outputs": [],
      "source": [
        "# call the NER model\n",
        "ner = NERecognizer('CAMeL-Lab/bert-base-arabic-camelbert-msa-ner')"
      ]
    },
    {
      "cell_type": "markdown",
      "source": [
        "#Create the Flask App"
      ],
      "metadata": {
        "id": "xdeiS-72PZvA"
      },
      "id": "xdeiS-72PZvA"
    },
    {
      "cell_type": "code",
      "execution_count": null,
      "id": "752e466c",
      "metadata": {
        "id": "752e466c"
      },
      "outputs": [],
      "source": [
        "app = Flask(__name__)"
      ]
    },
    {
      "cell_type": "code",
      "execution_count": null,
      "id": "cb7b2b27",
      "metadata": {
        "id": "cb7b2b27"
      },
      "outputs": [],
      "source": [
        "@app.route('/ner', methods=['POST'])\n",
        "def ner_endpoint():\n",
        "    try:\n",
        "        # Get the input text from the request\n",
        "        input_text = request.json['text']\n",
        "\n",
        "        # Tokenize the input text\n",
        "        input_tokens = simple_word_tokenize(input_text)\n",
        "\n",
        "        # Perform named entity recognition on the input text\n",
        "        entities = ner.predict_sentence(input_tokens)\n",
        "\n",
        "        # Create a list of dictionaries for word-entity pairs\n",
        "        word_entity_pairs = [{'word': word, 'entity': entity} for word, entity in zip(input_tokens, entities)]\n",
        "\n",
        "        # Return the list of word-entity pairs as JSON\n",
        "        return jsonify({'word_entities': word_entity_pairs})\n",
        "\n",
        "    except Exception as e:\n",
        "        return jsonify({'error': str(e)}), 400"
      ]
    },
    {
      "cell_type": "markdown",
      "source": [
        "# Run the App"
      ],
      "metadata": {
        "id": "SW6qwYsbPdLw"
      },
      "id": "SW6qwYsbPdLw"
    },
    {
      "cell_type": "code",
      "execution_count": null,
      "id": "9db664a2",
      "metadata": {
        "id": "9db664a2",
        "outputId": "4e693d1c-8fb4-4126-f3ad-a71e8246cba8"
      },
      "outputs": [
        {
          "name": "stdout",
          "output_type": "stream",
          "text": [
            " * Serving Flask app '__main__'\n",
            " * Debug mode: off\n"
          ]
        },
        {
          "name": "stderr",
          "output_type": "stream",
          "text": [
            "WARNING: This is a development server. Do not use it in a production deployment. Use a production WSGI server instead.\n",
            " * Running on http://127.0.0.1:5000\n",
            "Press CTRL+C to quit\n",
            "127.0.0.1 - - [25/Nov/2023 12:58:21] \"POST /ner HTTP/1.1\" 200 -\n"
          ]
        }
      ],
      "source": [
        "if __name__ == '__main__':\n",
        "    app.run(port=5000)"
      ]
    }
  ],
  "metadata": {
    "kernelspec": {
      "display_name": "Python 3 (ipykernel)",
      "language": "python",
      "name": "python3"
    },
    "language_info": {
      "codemirror_mode": {
        "name": "ipython",
        "version": 3
      },
      "file_extension": ".py",
      "mimetype": "text/x-python",
      "name": "python",
      "nbconvert_exporter": "python",
      "pygments_lexer": "ipython3",
      "version": "3.10.13"
    },
    "colab": {
      "provenance": []
    }
  },
  "nbformat": 4,
  "nbformat_minor": 5
}